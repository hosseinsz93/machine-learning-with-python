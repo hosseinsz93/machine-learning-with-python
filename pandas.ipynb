{
 "cells": [
  {
   "cell_type": "markdown",
   "id": "84acd366",
   "metadata": {},
   "source": [
    "# Pandas"
   ]
  },
  {
   "cell_type": "code",
   "execution_count": 1,
   "id": "44f32214",
   "metadata": {},
   "outputs": [],
   "source": [
    "import pandas as pd\n",
    "import numpy as np"
   ]
  },
  {
   "cell_type": "code",
   "execution_count": 2,
   "id": "8151d689",
   "metadata": {},
   "outputs": [
    {
     "name": "stdout",
     "output_type": "stream",
     "text": [
      "our data frame is:\n"
     ]
    },
    {
     "data": {
      "text/plain": [
       "0          1\n",
       "1          2\n",
       "2    Hossein\n",
       "3          0\n",
       "4        NaN\n",
       "5         -1\n",
       "dtype: object"
      ]
     },
     "execution_count": 2,
     "metadata": {},
     "output_type": "execute_result"
    }
   ],
   "source": [
    "print('our data frame is:')\n",
    "pd.Series([1 , 2 , 'Hossein' , 0 , np.nan , -1])"
   ]
  },
  {
   "cell_type": "markdown",
   "id": "07b859b1",
   "metadata": {},
   "source": [
    "Pandas sees the data as a spreadsheet."
   ]
  },
  {
   "cell_type": "code",
   "execution_count": 3,
   "id": "3590f606",
   "metadata": {},
   "outputs": [
    {
     "data": {
      "text/plain": [
       "DatetimeIndex(['2023-01-01', '2023-01-02', '2023-01-03', '2023-01-04',\n",
       "               '2023-01-05', '2023-01-06'],\n",
       "              dtype='datetime64[ns]', freq='D')"
      ]
     },
     "execution_count": 3,
     "metadata": {},
     "output_type": "execute_result"
    }
   ],
   "source": [
    "dates = pd.date_range('20230101', periods=6)\n",
    "dates"
   ]
  },
  {
   "cell_type": "code",
   "execution_count": 4,
   "id": "4debf387",
   "metadata": {},
   "outputs": [
    {
     "data": {
      "text/plain": [
       "array([[-1.13600004, -1.35888502,  2.56408714,  1.46553542],\n",
       "       [ 0.06404491,  1.89876263, -0.52787533, -0.30618284],\n",
       "       [-0.25097316, -0.48730252,  0.60600227, -0.87497046],\n",
       "       [-0.12146397, -0.0555751 , -0.11236695,  0.04593793],\n",
       "       [ 0.32159563, -0.84980376, -0.66867784, -0.32069784],\n",
       "       [-1.04860721, -0.74532025, -0.26929042,  1.4068943 ]])"
      ]
     },
     "execution_count": 4,
     "metadata": {},
     "output_type": "execute_result"
    }
   ],
   "source": [
    "np.random.randn(6,4)"
   ]
  },
  {
   "cell_type": "code",
   "execution_count": 5,
   "id": "d02774c5",
   "metadata": {},
   "outputs": [
    {
     "data": {
      "text/html": [
       "<div>\n",
       "<style scoped>\n",
       "    .dataframe tbody tr th:only-of-type {\n",
       "        vertical-align: middle;\n",
       "    }\n",
       "\n",
       "    .dataframe tbody tr th {\n",
       "        vertical-align: top;\n",
       "    }\n",
       "\n",
       "    .dataframe thead th {\n",
       "        text-align: right;\n",
       "    }\n",
       "</style>\n",
       "<table border=\"1\" class=\"dataframe\">\n",
       "  <thead>\n",
       "    <tr style=\"text-align: right;\">\n",
       "      <th></th>\n",
       "      <th>0</th>\n",
       "      <th>1</th>\n",
       "      <th>2</th>\n",
       "      <th>3</th>\n",
       "    </tr>\n",
       "  </thead>\n",
       "  <tbody>\n",
       "    <tr>\n",
       "      <th>2023-01-01</th>\n",
       "      <td>0.574076</td>\n",
       "      <td>-1.133852</td>\n",
       "      <td>-2.286928</td>\n",
       "      <td>-1.738701</td>\n",
       "    </tr>\n",
       "    <tr>\n",
       "      <th>2023-01-02</th>\n",
       "      <td>0.779434</td>\n",
       "      <td>-0.925013</td>\n",
       "      <td>1.257121</td>\n",
       "      <td>-0.490656</td>\n",
       "    </tr>\n",
       "    <tr>\n",
       "      <th>2023-01-03</th>\n",
       "      <td>-1.023162</td>\n",
       "      <td>1.329165</td>\n",
       "      <td>-1.013644</td>\n",
       "      <td>-1.374707</td>\n",
       "    </tr>\n",
       "    <tr>\n",
       "      <th>2023-01-04</th>\n",
       "      <td>-0.768827</td>\n",
       "      <td>0.347312</td>\n",
       "      <td>-0.546980</td>\n",
       "      <td>0.397389</td>\n",
       "    </tr>\n",
       "    <tr>\n",
       "      <th>2023-01-05</th>\n",
       "      <td>-1.335914</td>\n",
       "      <td>0.864491</td>\n",
       "      <td>-1.213359</td>\n",
       "      <td>0.537147</td>\n",
       "    </tr>\n",
       "    <tr>\n",
       "      <th>2023-01-06</th>\n",
       "      <td>-1.165864</td>\n",
       "      <td>1.734383</td>\n",
       "      <td>0.488393</td>\n",
       "      <td>0.553914</td>\n",
       "    </tr>\n",
       "  </tbody>\n",
       "</table>\n",
       "</div>"
      ],
      "text/plain": [
       "                   0         1         2         3\n",
       "2023-01-01  0.574076 -1.133852 -2.286928 -1.738701\n",
       "2023-01-02  0.779434 -0.925013  1.257121 -0.490656\n",
       "2023-01-03 -1.023162  1.329165 -1.013644 -1.374707\n",
       "2023-01-04 -0.768827  0.347312 -0.546980  0.397389\n",
       "2023-01-05 -1.335914  0.864491 -1.213359  0.537147\n",
       "2023-01-06 -1.165864  1.734383  0.488393  0.553914"
      ]
     },
     "execution_count": 5,
     "metadata": {},
     "output_type": "execute_result"
    }
   ],
   "source": [
    "df = pd.DataFrame(np.random.randn(6,4), index=dates)\n",
    "df"
   ]
  },
  {
   "cell_type": "code",
   "execution_count": 6,
   "id": "2101cea2",
   "metadata": {},
   "outputs": [
    {
     "data": {
      "text/html": [
       "<div>\n",
       "<style scoped>\n",
       "    .dataframe tbody tr th:only-of-type {\n",
       "        vertical-align: middle;\n",
       "    }\n",
       "\n",
       "    .dataframe tbody tr th {\n",
       "        vertical-align: top;\n",
       "    }\n",
       "\n",
       "    .dataframe thead th {\n",
       "        text-align: right;\n",
       "    }\n",
       "</style>\n",
       "<table border=\"1\" class=\"dataframe\">\n",
       "  <thead>\n",
       "    <tr style=\"text-align: right;\">\n",
       "      <th></th>\n",
       "      <th>A</th>\n",
       "      <th>B</th>\n",
       "      <th>C</th>\n",
       "      <th>D</th>\n",
       "    </tr>\n",
       "  </thead>\n",
       "  <tbody>\n",
       "    <tr>\n",
       "      <th>2023-01-01</th>\n",
       "      <td>-1.324928</td>\n",
       "      <td>-0.470633</td>\n",
       "      <td>-0.286664</td>\n",
       "      <td>-2.165267</td>\n",
       "    </tr>\n",
       "    <tr>\n",
       "      <th>2023-01-02</th>\n",
       "      <td>-0.192900</td>\n",
       "      <td>0.686221</td>\n",
       "      <td>0.616158</td>\n",
       "      <td>0.128900</td>\n",
       "    </tr>\n",
       "    <tr>\n",
       "      <th>2023-01-03</th>\n",
       "      <td>1.371569</td>\n",
       "      <td>-1.161529</td>\n",
       "      <td>0.574603</td>\n",
       "      <td>0.147383</td>\n",
       "    </tr>\n",
       "    <tr>\n",
       "      <th>2023-01-04</th>\n",
       "      <td>-0.155228</td>\n",
       "      <td>-0.587427</td>\n",
       "      <td>0.980158</td>\n",
       "      <td>0.811348</td>\n",
       "    </tr>\n",
       "    <tr>\n",
       "      <th>2023-01-05</th>\n",
       "      <td>0.465754</td>\n",
       "      <td>0.134383</td>\n",
       "      <td>0.420649</td>\n",
       "      <td>-0.447760</td>\n",
       "    </tr>\n",
       "    <tr>\n",
       "      <th>2023-01-06</th>\n",
       "      <td>0.365365</td>\n",
       "      <td>0.609512</td>\n",
       "      <td>0.709353</td>\n",
       "      <td>0.481487</td>\n",
       "    </tr>\n",
       "  </tbody>\n",
       "</table>\n",
       "</div>"
      ],
      "text/plain": [
       "                   A         B         C         D\n",
       "2023-01-01 -1.324928 -0.470633 -0.286664 -2.165267\n",
       "2023-01-02 -0.192900  0.686221  0.616158  0.128900\n",
       "2023-01-03  1.371569 -1.161529  0.574603  0.147383\n",
       "2023-01-04 -0.155228 -0.587427  0.980158  0.811348\n",
       "2023-01-05  0.465754  0.134383  0.420649 -0.447760\n",
       "2023-01-06  0.365365  0.609512  0.709353  0.481487"
      ]
     },
     "execution_count": 6,
     "metadata": {},
     "output_type": "execute_result"
    }
   ],
   "source": [
    "df = pd.DataFrame(np.random.randn(6,4), index=dates, columns=list('ABCD'))\n",
    "df"
   ]
  },
  {
   "cell_type": "code",
   "execution_count": 7,
   "id": "18c918fd",
   "metadata": {},
   "outputs": [
    {
     "data": {
      "text/plain": [
       "A    float64\n",
       "B    float64\n",
       "C    float64\n",
       "D    float64\n",
       "dtype: object"
      ]
     },
     "execution_count": 7,
     "metadata": {},
     "output_type": "execute_result"
    }
   ],
   "source": [
    "df.dtypes"
   ]
  },
  {
   "cell_type": "code",
   "execution_count": 8,
   "id": "911a6f2a",
   "metadata": {},
   "outputs": [
    {
     "data": {
      "text/plain": [
       "2023-01-01   -1.324928\n",
       "2023-01-02   -0.192900\n",
       "2023-01-03    1.371569\n",
       "2023-01-04   -0.155228\n",
       "2023-01-05    0.465754\n",
       "2023-01-06    0.365365\n",
       "Freq: D, Name: A, dtype: float64"
      ]
     },
     "execution_count": 8,
     "metadata": {},
     "output_type": "execute_result"
    }
   ],
   "source": [
    "df['A']"
   ]
  },
  {
   "cell_type": "code",
   "execution_count": 9,
   "id": "0b17a6ec",
   "metadata": {},
   "outputs": [
    {
     "data": {
      "text/html": [
       "<div>\n",
       "<style scoped>\n",
       "    .dataframe tbody tr th:only-of-type {\n",
       "        vertical-align: middle;\n",
       "    }\n",
       "\n",
       "    .dataframe tbody tr th {\n",
       "        vertical-align: top;\n",
       "    }\n",
       "\n",
       "    .dataframe thead th {\n",
       "        text-align: right;\n",
       "    }\n",
       "</style>\n",
       "<table border=\"1\" class=\"dataframe\">\n",
       "  <thead>\n",
       "    <tr style=\"text-align: right;\">\n",
       "      <th></th>\n",
       "      <th>A</th>\n",
       "      <th>B</th>\n",
       "      <th>C</th>\n",
       "      <th>D</th>\n",
       "    </tr>\n",
       "  </thead>\n",
       "  <tbody>\n",
       "    <tr>\n",
       "      <th>2023-01-01</th>\n",
       "      <td>-1.324928</td>\n",
       "      <td>-0.470633</td>\n",
       "      <td>-0.286664</td>\n",
       "      <td>-2.165267</td>\n",
       "    </tr>\n",
       "    <tr>\n",
       "      <th>2023-01-02</th>\n",
       "      <td>-0.192900</td>\n",
       "      <td>0.686221</td>\n",
       "      <td>0.616158</td>\n",
       "      <td>0.128900</td>\n",
       "    </tr>\n",
       "    <tr>\n",
       "      <th>2023-01-03</th>\n",
       "      <td>1.371569</td>\n",
       "      <td>-1.161529</td>\n",
       "      <td>0.574603</td>\n",
       "      <td>0.147383</td>\n",
       "    </tr>\n",
       "    <tr>\n",
       "      <th>2023-01-04</th>\n",
       "      <td>-0.155228</td>\n",
       "      <td>-0.587427</td>\n",
       "      <td>0.980158</td>\n",
       "      <td>0.811348</td>\n",
       "    </tr>\n",
       "    <tr>\n",
       "      <th>2023-01-05</th>\n",
       "      <td>0.465754</td>\n",
       "      <td>0.134383</td>\n",
       "      <td>0.420649</td>\n",
       "      <td>-0.447760</td>\n",
       "    </tr>\n",
       "  </tbody>\n",
       "</table>\n",
       "</div>"
      ],
      "text/plain": [
       "                   A         B         C         D\n",
       "2023-01-01 -1.324928 -0.470633 -0.286664 -2.165267\n",
       "2023-01-02 -0.192900  0.686221  0.616158  0.128900\n",
       "2023-01-03  1.371569 -1.161529  0.574603  0.147383\n",
       "2023-01-04 -0.155228 -0.587427  0.980158  0.811348\n",
       "2023-01-05  0.465754  0.134383  0.420649 -0.447760"
      ]
     },
     "execution_count": 9,
     "metadata": {},
     "output_type": "execute_result"
    }
   ],
   "source": [
    "df.head()"
   ]
  },
  {
   "cell_type": "code",
   "execution_count": 10,
   "id": "8e39d68f",
   "metadata": {},
   "outputs": [
    {
     "data": {
      "text/html": [
       "<div>\n",
       "<style scoped>\n",
       "    .dataframe tbody tr th:only-of-type {\n",
       "        vertical-align: middle;\n",
       "    }\n",
       "\n",
       "    .dataframe tbody tr th {\n",
       "        vertical-align: top;\n",
       "    }\n",
       "\n",
       "    .dataframe thead th {\n",
       "        text-align: right;\n",
       "    }\n",
       "</style>\n",
       "<table border=\"1\" class=\"dataframe\">\n",
       "  <thead>\n",
       "    <tr style=\"text-align: right;\">\n",
       "      <th></th>\n",
       "      <th>A</th>\n",
       "      <th>B</th>\n",
       "      <th>C</th>\n",
       "      <th>D</th>\n",
       "    </tr>\n",
       "  </thead>\n",
       "  <tbody>\n",
       "    <tr>\n",
       "      <th>2023-01-01</th>\n",
       "      <td>-1.324928</td>\n",
       "      <td>-0.470633</td>\n",
       "      <td>-0.286664</td>\n",
       "      <td>-2.165267</td>\n",
       "    </tr>\n",
       "    <tr>\n",
       "      <th>2023-01-02</th>\n",
       "      <td>-0.192900</td>\n",
       "      <td>0.686221</td>\n",
       "      <td>0.616158</td>\n",
       "      <td>0.128900</td>\n",
       "    </tr>\n",
       "  </tbody>\n",
       "</table>\n",
       "</div>"
      ],
      "text/plain": [
       "                   A         B         C         D\n",
       "2023-01-01 -1.324928 -0.470633 -0.286664 -2.165267\n",
       "2023-01-02 -0.192900  0.686221  0.616158  0.128900"
      ]
     },
     "execution_count": 10,
     "metadata": {},
     "output_type": "execute_result"
    }
   ],
   "source": [
    "df.head(2)"
   ]
  },
  {
   "cell_type": "code",
   "execution_count": 11,
   "id": "b23d3fe4",
   "metadata": {},
   "outputs": [
    {
     "data": {
      "text/html": [
       "<div>\n",
       "<style scoped>\n",
       "    .dataframe tbody tr th:only-of-type {\n",
       "        vertical-align: middle;\n",
       "    }\n",
       "\n",
       "    .dataframe tbody tr th {\n",
       "        vertical-align: top;\n",
       "    }\n",
       "\n",
       "    .dataframe thead th {\n",
       "        text-align: right;\n",
       "    }\n",
       "</style>\n",
       "<table border=\"1\" class=\"dataframe\">\n",
       "  <thead>\n",
       "    <tr style=\"text-align: right;\">\n",
       "      <th></th>\n",
       "      <th>A</th>\n",
       "      <th>B</th>\n",
       "      <th>C</th>\n",
       "      <th>D</th>\n",
       "    </tr>\n",
       "  </thead>\n",
       "  <tbody>\n",
       "    <tr>\n",
       "      <th>2023-01-05</th>\n",
       "      <td>0.465754</td>\n",
       "      <td>0.134383</td>\n",
       "      <td>0.420649</td>\n",
       "      <td>-0.447760</td>\n",
       "    </tr>\n",
       "    <tr>\n",
       "      <th>2023-01-06</th>\n",
       "      <td>0.365365</td>\n",
       "      <td>0.609512</td>\n",
       "      <td>0.709353</td>\n",
       "      <td>0.481487</td>\n",
       "    </tr>\n",
       "  </tbody>\n",
       "</table>\n",
       "</div>"
      ],
      "text/plain": [
       "                   A         B         C         D\n",
       "2023-01-05  0.465754  0.134383  0.420649 -0.447760\n",
       "2023-01-06  0.365365  0.609512  0.709353  0.481487"
      ]
     },
     "execution_count": 11,
     "metadata": {},
     "output_type": "execute_result"
    }
   ],
   "source": [
    "df.tail(2)"
   ]
  },
  {
   "cell_type": "code",
   "execution_count": 12,
   "id": "b9e6e5c1",
   "metadata": {},
   "outputs": [
    {
     "data": {
      "text/html": [
       "<div>\n",
       "<style scoped>\n",
       "    .dataframe tbody tr th:only-of-type {\n",
       "        vertical-align: middle;\n",
       "    }\n",
       "\n",
       "    .dataframe tbody tr th {\n",
       "        vertical-align: top;\n",
       "    }\n",
       "\n",
       "    .dataframe thead th {\n",
       "        text-align: right;\n",
       "    }\n",
       "</style>\n",
       "<table border=\"1\" class=\"dataframe\">\n",
       "  <thead>\n",
       "    <tr style=\"text-align: right;\">\n",
       "      <th></th>\n",
       "      <th>A</th>\n",
       "      <th>B</th>\n",
       "      <th>C</th>\n",
       "      <th>D</th>\n",
       "    </tr>\n",
       "  </thead>\n",
       "  <tbody>\n",
       "    <tr>\n",
       "      <th>count</th>\n",
       "      <td>6.000000</td>\n",
       "      <td>6.000000</td>\n",
       "      <td>6.000000</td>\n",
       "      <td>6.000000</td>\n",
       "    </tr>\n",
       "    <tr>\n",
       "      <th>mean</th>\n",
       "      <td>0.088272</td>\n",
       "      <td>-0.131579</td>\n",
       "      <td>0.502376</td>\n",
       "      <td>-0.173985</td>\n",
       "    </tr>\n",
       "    <tr>\n",
       "      <th>std</th>\n",
       "      <td>0.894607</td>\n",
       "      <td>0.731068</td>\n",
       "      <td>0.428612</td>\n",
       "      <td>1.061668</td>\n",
       "    </tr>\n",
       "    <tr>\n",
       "      <th>min</th>\n",
       "      <td>-1.324928</td>\n",
       "      <td>-1.161529</td>\n",
       "      <td>-0.286664</td>\n",
       "      <td>-2.165267</td>\n",
       "    </tr>\n",
       "    <tr>\n",
       "      <th>25%</th>\n",
       "      <td>-0.183482</td>\n",
       "      <td>-0.558229</td>\n",
       "      <td>0.459137</td>\n",
       "      <td>-0.303595</td>\n",
       "    </tr>\n",
       "    <tr>\n",
       "      <th>50%</th>\n",
       "      <td>0.105069</td>\n",
       "      <td>-0.168125</td>\n",
       "      <td>0.595380</td>\n",
       "      <td>0.138142</td>\n",
       "    </tr>\n",
       "    <tr>\n",
       "      <th>75%</th>\n",
       "      <td>0.440657</td>\n",
       "      <td>0.490730</td>\n",
       "      <td>0.686054</td>\n",
       "      <td>0.397961</td>\n",
       "    </tr>\n",
       "    <tr>\n",
       "      <th>max</th>\n",
       "      <td>1.371569</td>\n",
       "      <td>0.686221</td>\n",
       "      <td>0.980158</td>\n",
       "      <td>0.811348</td>\n",
       "    </tr>\n",
       "  </tbody>\n",
       "</table>\n",
       "</div>"
      ],
      "text/plain": [
       "              A         B         C         D\n",
       "count  6.000000  6.000000  6.000000  6.000000\n",
       "mean   0.088272 -0.131579  0.502376 -0.173985\n",
       "std    0.894607  0.731068  0.428612  1.061668\n",
       "min   -1.324928 -1.161529 -0.286664 -2.165267\n",
       "25%   -0.183482 -0.558229  0.459137 -0.303595\n",
       "50%    0.105069 -0.168125  0.595380  0.138142\n",
       "75%    0.440657  0.490730  0.686054  0.397961\n",
       "max    1.371569  0.686221  0.980158  0.811348"
      ]
     },
     "execution_count": 12,
     "metadata": {},
     "output_type": "execute_result"
    }
   ],
   "source": [
    "df.describe()"
   ]
  },
  {
   "cell_type": "code",
   "execution_count": 13,
   "id": "9e7f1fc8",
   "metadata": {},
   "outputs": [
    {
     "data": {
      "text/plain": [
       "A    0.088272\n",
       "B   -0.131579\n",
       "C    0.502376\n",
       "D   -0.173985\n",
       "dtype: float64"
      ]
     },
     "execution_count": 13,
     "metadata": {},
     "output_type": "execute_result"
    }
   ],
   "source": [
    "df.mean()"
   ]
  },
  {
   "cell_type": "code",
   "execution_count": 14,
   "id": "6c64105d",
   "metadata": {},
   "outputs": [
    {
     "data": {
      "text/plain": [
       "0.08827211233811366"
      ]
     },
     "execution_count": 14,
     "metadata": {},
     "output_type": "execute_result"
    }
   ],
   "source": [
    "df[\"A\"].mean()"
   ]
  },
  {
   "cell_type": "code",
   "execution_count": 15,
   "id": "1156fbf6",
   "metadata": {},
   "outputs": [
    {
     "data": {
      "text/html": [
       "<div>\n",
       "<style scoped>\n",
       "    .dataframe tbody tr th:only-of-type {\n",
       "        vertical-align: middle;\n",
       "    }\n",
       "\n",
       "    .dataframe tbody tr th {\n",
       "        vertical-align: top;\n",
       "    }\n",
       "\n",
       "    .dataframe thead th {\n",
       "        text-align: right;\n",
       "    }\n",
       "</style>\n",
       "<table border=\"1\" class=\"dataframe\">\n",
       "  <thead>\n",
       "    <tr style=\"text-align: right;\">\n",
       "      <th></th>\n",
       "      <th>A</th>\n",
       "      <th>B</th>\n",
       "      <th>C</th>\n",
       "      <th>D</th>\n",
       "    </tr>\n",
       "  </thead>\n",
       "  <tbody>\n",
       "    <tr>\n",
       "      <th>2023-01-01</th>\n",
       "      <td>-1.324928</td>\n",
       "      <td>-0.470633</td>\n",
       "      <td>-0.286664</td>\n",
       "      <td>-2.165267</td>\n",
       "    </tr>\n",
       "    <tr>\n",
       "      <th>2023-01-02</th>\n",
       "      <td>-0.192900</td>\n",
       "      <td>0.686221</td>\n",
       "      <td>0.616158</td>\n",
       "      <td>0.128900</td>\n",
       "    </tr>\n",
       "  </tbody>\n",
       "</table>\n",
       "</div>"
      ],
      "text/plain": [
       "                   A         B         C         D\n",
       "2023-01-01 -1.324928 -0.470633 -0.286664 -2.165267\n",
       "2023-01-02 -0.192900  0.686221  0.616158  0.128900"
      ]
     },
     "execution_count": 15,
     "metadata": {},
     "output_type": "execute_result"
    }
   ],
   "source": [
    "df[0:2]"
   ]
  },
  {
   "cell_type": "code",
   "execution_count": 16,
   "id": "e4436eae",
   "metadata": {},
   "outputs": [
    {
     "data": {
      "text/html": [
       "<div>\n",
       "<style scoped>\n",
       "    .dataframe tbody tr th:only-of-type {\n",
       "        vertical-align: middle;\n",
       "    }\n",
       "\n",
       "    .dataframe tbody tr th {\n",
       "        vertical-align: top;\n",
       "    }\n",
       "\n",
       "    .dataframe thead th {\n",
       "        text-align: right;\n",
       "    }\n",
       "</style>\n",
       "<table border=\"1\" class=\"dataframe\">\n",
       "  <thead>\n",
       "    <tr style=\"text-align: right;\">\n",
       "      <th></th>\n",
       "      <th>2023-01-01</th>\n",
       "      <th>2023-01-02</th>\n",
       "      <th>2023-01-03</th>\n",
       "      <th>2023-01-04</th>\n",
       "      <th>2023-01-05</th>\n",
       "      <th>2023-01-06</th>\n",
       "    </tr>\n",
       "  </thead>\n",
       "  <tbody>\n",
       "    <tr>\n",
       "      <th>A</th>\n",
       "      <td>-1.324928</td>\n",
       "      <td>-0.192900</td>\n",
       "      <td>1.371569</td>\n",
       "      <td>-0.155228</td>\n",
       "      <td>0.465754</td>\n",
       "      <td>0.365365</td>\n",
       "    </tr>\n",
       "    <tr>\n",
       "      <th>B</th>\n",
       "      <td>-0.470633</td>\n",
       "      <td>0.686221</td>\n",
       "      <td>-1.161529</td>\n",
       "      <td>-0.587427</td>\n",
       "      <td>0.134383</td>\n",
       "      <td>0.609512</td>\n",
       "    </tr>\n",
       "    <tr>\n",
       "      <th>C</th>\n",
       "      <td>-0.286664</td>\n",
       "      <td>0.616158</td>\n",
       "      <td>0.574603</td>\n",
       "      <td>0.980158</td>\n",
       "      <td>0.420649</td>\n",
       "      <td>0.709353</td>\n",
       "    </tr>\n",
       "    <tr>\n",
       "      <th>D</th>\n",
       "      <td>-2.165267</td>\n",
       "      <td>0.128900</td>\n",
       "      <td>0.147383</td>\n",
       "      <td>0.811348</td>\n",
       "      <td>-0.447760</td>\n",
       "      <td>0.481487</td>\n",
       "    </tr>\n",
       "  </tbody>\n",
       "</table>\n",
       "</div>"
      ],
      "text/plain": [
       "   2023-01-01  2023-01-02  2023-01-03  2023-01-04  2023-01-05  2023-01-06\n",
       "A   -1.324928   -0.192900    1.371569   -0.155228    0.465754    0.365365\n",
       "B   -0.470633    0.686221   -1.161529   -0.587427    0.134383    0.609512\n",
       "C   -0.286664    0.616158    0.574603    0.980158    0.420649    0.709353\n",
       "D   -2.165267    0.128900    0.147383    0.811348   -0.447760    0.481487"
      ]
     },
     "execution_count": 16,
     "metadata": {},
     "output_type": "execute_result"
    }
   ],
   "source": [
    "df.T"
   ]
  },
  {
   "cell_type": "code",
   "execution_count": 17,
   "id": "500f4ba4",
   "metadata": {},
   "outputs": [
    {
     "data": {
      "text/html": [
       "<div>\n",
       "<style scoped>\n",
       "    .dataframe tbody tr th:only-of-type {\n",
       "        vertical-align: middle;\n",
       "    }\n",
       "\n",
       "    .dataframe tbody tr th {\n",
       "        vertical-align: top;\n",
       "    }\n",
       "\n",
       "    .dataframe thead th {\n",
       "        text-align: right;\n",
       "    }\n",
       "</style>\n",
       "<table border=\"1\" class=\"dataframe\">\n",
       "  <thead>\n",
       "    <tr style=\"text-align: right;\">\n",
       "      <th></th>\n",
       "      <th>A</th>\n",
       "      <th>B</th>\n",
       "      <th>C</th>\n",
       "      <th>D</th>\n",
       "    </tr>\n",
       "  </thead>\n",
       "  <tbody>\n",
       "    <tr>\n",
       "      <th>2023-01-03</th>\n",
       "      <td>1.371569</td>\n",
       "      <td>-1.161529</td>\n",
       "      <td>0.574603</td>\n",
       "      <td>0.147383</td>\n",
       "    </tr>\n",
       "    <tr>\n",
       "      <th>2023-01-04</th>\n",
       "      <td>-0.155228</td>\n",
       "      <td>-0.587427</td>\n",
       "      <td>0.980158</td>\n",
       "      <td>0.811348</td>\n",
       "    </tr>\n",
       "    <tr>\n",
       "      <th>2023-01-01</th>\n",
       "      <td>-1.324928</td>\n",
       "      <td>-0.470633</td>\n",
       "      <td>-0.286664</td>\n",
       "      <td>-2.165267</td>\n",
       "    </tr>\n",
       "    <tr>\n",
       "      <th>2023-01-05</th>\n",
       "      <td>0.465754</td>\n",
       "      <td>0.134383</td>\n",
       "      <td>0.420649</td>\n",
       "      <td>-0.447760</td>\n",
       "    </tr>\n",
       "    <tr>\n",
       "      <th>2023-01-06</th>\n",
       "      <td>0.365365</td>\n",
       "      <td>0.609512</td>\n",
       "      <td>0.709353</td>\n",
       "      <td>0.481487</td>\n",
       "    </tr>\n",
       "    <tr>\n",
       "      <th>2023-01-02</th>\n",
       "      <td>-0.192900</td>\n",
       "      <td>0.686221</td>\n",
       "      <td>0.616158</td>\n",
       "      <td>0.128900</td>\n",
       "    </tr>\n",
       "  </tbody>\n",
       "</table>\n",
       "</div>"
      ],
      "text/plain": [
       "                   A         B         C         D\n",
       "2023-01-03  1.371569 -1.161529  0.574603  0.147383\n",
       "2023-01-04 -0.155228 -0.587427  0.980158  0.811348\n",
       "2023-01-01 -1.324928 -0.470633 -0.286664 -2.165267\n",
       "2023-01-05  0.465754  0.134383  0.420649 -0.447760\n",
       "2023-01-06  0.365365  0.609512  0.709353  0.481487\n",
       "2023-01-02 -0.192900  0.686221  0.616158  0.128900"
      ]
     },
     "execution_count": 17,
     "metadata": {},
     "output_type": "execute_result"
    }
   ],
   "source": [
    "df.sort_values(by='B')"
   ]
  },
  {
   "cell_type": "code",
   "execution_count": 18,
   "id": "82695154",
   "metadata": {},
   "outputs": [
    {
     "data": {
      "text/html": [
       "<div>\n",
       "<style scoped>\n",
       "    .dataframe tbody tr th:only-of-type {\n",
       "        vertical-align: middle;\n",
       "    }\n",
       "\n",
       "    .dataframe tbody tr th {\n",
       "        vertical-align: top;\n",
       "    }\n",
       "\n",
       "    .dataframe thead th {\n",
       "        text-align: right;\n",
       "    }\n",
       "</style>\n",
       "<table border=\"1\" class=\"dataframe\">\n",
       "  <thead>\n",
       "    <tr style=\"text-align: right;\">\n",
       "      <th></th>\n",
       "      <th>A</th>\n",
       "      <th>B</th>\n",
       "      <th>C</th>\n",
       "      <th>D</th>\n",
       "    </tr>\n",
       "  </thead>\n",
       "  <tbody>\n",
       "    <tr>\n",
       "      <th>2023-01-03</th>\n",
       "      <td>1.371569</td>\n",
       "      <td>-1.161529</td>\n",
       "      <td>0.574603</td>\n",
       "      <td>0.147383</td>\n",
       "    </tr>\n",
       "    <tr>\n",
       "      <th>2023-01-05</th>\n",
       "      <td>0.465754</td>\n",
       "      <td>0.134383</td>\n",
       "      <td>0.420649</td>\n",
       "      <td>-0.447760</td>\n",
       "    </tr>\n",
       "    <tr>\n",
       "      <th>2023-01-06</th>\n",
       "      <td>0.365365</td>\n",
       "      <td>0.609512</td>\n",
       "      <td>0.709353</td>\n",
       "      <td>0.481487</td>\n",
       "    </tr>\n",
       "  </tbody>\n",
       "</table>\n",
       "</div>"
      ],
      "text/plain": [
       "                   A         B         C         D\n",
       "2023-01-03  1.371569 -1.161529  0.574603  0.147383\n",
       "2023-01-05  0.465754  0.134383  0.420649 -0.447760\n",
       "2023-01-06  0.365365  0.609512  0.709353  0.481487"
      ]
     },
     "execution_count": 18,
     "metadata": {},
     "output_type": "execute_result"
    }
   ],
   "source": [
    "df[df[\"A\"] > 0]"
   ]
  },
  {
   "cell_type": "markdown",
   "id": "4cfe9f7e",
   "metadata": {},
   "source": [
    "### Read and write operations"
   ]
  },
  {
   "cell_type": "code",
   "execution_count": 24,
   "id": "9db38855",
   "metadata": {},
   "outputs": [],
   "source": [
    "df.to_csv('data.csv')"
   ]
  },
  {
   "cell_type": "code",
   "execution_count": 25,
   "id": "0d9163a4",
   "metadata": {},
   "outputs": [],
   "source": [
    "df.to_excel('data.xlsx', sheet_name='Sheet1')"
   ]
  },
  {
   "cell_type": "code",
   "execution_count": 27,
   "id": "7d985d3d",
   "metadata": {},
   "outputs": [
    {
     "data": {
      "text/html": [
       "<div>\n",
       "<style scoped>\n",
       "    .dataframe tbody tr th:only-of-type {\n",
       "        vertical-align: middle;\n",
       "    }\n",
       "\n",
       "    .dataframe tbody tr th {\n",
       "        vertical-align: top;\n",
       "    }\n",
       "\n",
       "    .dataframe thead th {\n",
       "        text-align: right;\n",
       "    }\n",
       "</style>\n",
       "<table border=\"1\" class=\"dataframe\">\n",
       "  <thead>\n",
       "    <tr style=\"text-align: right;\">\n",
       "      <th></th>\n",
       "      <th>Unnamed: 0</th>\n",
       "      <th>A</th>\n",
       "      <th>B</th>\n",
       "      <th>C</th>\n",
       "      <th>D</th>\n",
       "    </tr>\n",
       "  </thead>\n",
       "  <tbody>\n",
       "    <tr>\n",
       "      <th>0</th>\n",
       "      <td>2023-01-01</td>\n",
       "      <td>-1.324928</td>\n",
       "      <td>-0.470633</td>\n",
       "      <td>-0.286664</td>\n",
       "      <td>-2.165267</td>\n",
       "    </tr>\n",
       "    <tr>\n",
       "      <th>1</th>\n",
       "      <td>2023-01-02</td>\n",
       "      <td>-0.192900</td>\n",
       "      <td>0.686221</td>\n",
       "      <td>0.616158</td>\n",
       "      <td>0.128900</td>\n",
       "    </tr>\n",
       "    <tr>\n",
       "      <th>2</th>\n",
       "      <td>2023-01-03</td>\n",
       "      <td>1.371569</td>\n",
       "      <td>-1.161529</td>\n",
       "      <td>0.574603</td>\n",
       "      <td>0.147383</td>\n",
       "    </tr>\n",
       "    <tr>\n",
       "      <th>3</th>\n",
       "      <td>2023-01-04</td>\n",
       "      <td>-0.155228</td>\n",
       "      <td>-0.587427</td>\n",
       "      <td>0.980158</td>\n",
       "      <td>0.811348</td>\n",
       "    </tr>\n",
       "    <tr>\n",
       "      <th>4</th>\n",
       "      <td>2023-01-05</td>\n",
       "      <td>0.465754</td>\n",
       "      <td>0.134383</td>\n",
       "      <td>0.420649</td>\n",
       "      <td>-0.447760</td>\n",
       "    </tr>\n",
       "    <tr>\n",
       "      <th>5</th>\n",
       "      <td>2023-01-06</td>\n",
       "      <td>0.365365</td>\n",
       "      <td>0.609512</td>\n",
       "      <td>0.709353</td>\n",
       "      <td>0.481487</td>\n",
       "    </tr>\n",
       "  </tbody>\n",
       "</table>\n",
       "</div>"
      ],
      "text/plain": [
       "   Unnamed: 0         A         B         C         D\n",
       "0  2023-01-01 -1.324928 -0.470633 -0.286664 -2.165267\n",
       "1  2023-01-02 -0.192900  0.686221  0.616158  0.128900\n",
       "2  2023-01-03  1.371569 -1.161529  0.574603  0.147383\n",
       "3  2023-01-04 -0.155228 -0.587427  0.980158  0.811348\n",
       "4  2023-01-05  0.465754  0.134383  0.420649 -0.447760\n",
       "5  2023-01-06  0.365365  0.609512  0.709353  0.481487"
      ]
     },
     "execution_count": 27,
     "metadata": {},
     "output_type": "execute_result"
    }
   ],
   "source": [
    "pd.read_csv('data.csv')"
   ]
  },
  {
   "cell_type": "markdown",
   "id": "2cc633a7",
   "metadata": {},
   "source": [
    "Learning more: https://pandas.pydata.org/docs/user_guide/10min.html"
   ]
  }
 ],
 "metadata": {
  "kernelspec": {
   "display_name": "base",
   "language": "python",
   "name": "python3"
  },
  "language_info": {
   "codemirror_mode": {
    "name": "ipython",
    "version": 3
   },
   "file_extension": ".py",
   "mimetype": "text/x-python",
   "name": "python",
   "nbconvert_exporter": "python",
   "pygments_lexer": "ipython3",
   "version": "3.12.7"
  }
 },
 "nbformat": 4,
 "nbformat_minor": 5
}
